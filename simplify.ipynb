{
 "cells": [
  {
   "cell_type": "code",
   "execution_count": 1,
   "id": "d0fe9dcd",
   "metadata": {},
   "outputs": [],
   "source": [
    "import pandas as pd\n",
    "import datetime as dt"
   ]
  },
  {
   "cell_type": "code",
   "execution_count": 2,
   "id": "d1df8088",
   "metadata": {},
   "outputs": [],
   "source": [
    "data = pd.read_csv(\"F:/01_set_up_environment_and_data/us_stocks.csv\")"
   ]
  },
  {
   "cell_type": "code",
   "execution_count": 3,
   "id": "6cc75d4d",
   "metadata": {},
   "outputs": [],
   "source": [
    "data['date']=pd.to_datetime(data['date'])"
   ]
  },
  {
   "cell_type": "code",
   "execution_count": 4,
   "id": "25179751",
   "metadata": {},
   "outputs": [],
   "source": [
    "data=data.set_index(['ticker','date'])"
   ]
  },
  {
   "cell_type": "code",
   "execution_count": 5,
   "id": "e064e0d1",
   "metadata": {},
   "outputs": [],
   "source": [
    "data=data.drop(['open','high','low','close','volume','ex-dividend','split_ratio'],axis=1)"
   ]
  },
  {
   "cell_type": "code",
   "execution_count": 6,
   "id": "e5f15206",
   "metadata": {},
   "outputs": [],
   "source": [
    "data.columns = [x.replace('adj_','') for x in data.columns]\n"
   ]
  },
  {
   "cell_type": "code",
   "execution_count": 7,
   "id": "9148650b",
   "metadata": {},
   "outputs": [
    {
     "name": "stdout",
     "output_type": "stream",
     "text": [
      "                        open       high        low      close      volume\n",
      "ticker date                                                              \n",
      "A      1999-11-18  31.041951  34.112034  27.289627  30.018590  44739900.0\n",
      "       1999-11-19  29.295415  29.336350  27.160002  27.548879  10897100.0\n",
      "       1999-11-22  28.183363  30.018590  27.330562  30.018590   4705200.0\n",
      "       1999-11-23  28.995229  29.766161  27.460188  27.460188   4274400.0\n",
      "       1999-11-24  27.378319  28.613174  27.289627  28.012803   3464400.0\n"
     ]
    }
   ],
   "source": [
    "print(data.head(5))"
   ]
  },
  {
   "cell_type": "code",
   "execution_count": 8,
   "id": "37cceb2f",
   "metadata": {},
   "outputs": [],
   "source": [
    "data.to_hdf(\"F:/01_set_up_environment_and_data/data.h5\",key='data',mode='w')"
   ]
  },
  {
   "cell_type": "code",
   "execution_count": null,
   "id": "e23cc625",
   "metadata": {},
   "outputs": [],
   "source": []
  }
 ],
 "metadata": {
  "kernelspec": {
   "display_name": "Python [conda env:liveproject] *",
   "language": "python",
   "name": "conda-env-liveproject-py"
  },
  "language_info": {
   "codemirror_mode": {
    "name": "ipython",
    "version": 3
   },
   "file_extension": ".py",
   "mimetype": "text/x-python",
   "name": "python",
   "nbconvert_exporter": "python",
   "pygments_lexer": "ipython3",
   "version": "3.8.12"
  }
 },
 "nbformat": 4,
 "nbformat_minor": 5
}
